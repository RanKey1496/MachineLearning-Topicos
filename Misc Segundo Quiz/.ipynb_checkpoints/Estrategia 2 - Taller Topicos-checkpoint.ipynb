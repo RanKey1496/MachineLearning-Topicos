{
 "cells": [
  {
   "cell_type": "markdown",
   "metadata": {},
   "source": [
    "# Estrategía 2\n",
    "## Evaluar con todas las caracteristicas, exceptuando una\n",
    "\n",
    "- En esta estrategia, lo que intento realizar, es entrenar y evaluar el clasificador solo eliminando una caracteristica.\n",
    "- La caracteristica que mayor errores a la hora de evaluarla nos de, es la caracteristica más dependiente (La mejor para clasificar)."
   ]
  },
  {
   "cell_type": "code",
   "execution_count": 1,
   "metadata": {},
   "outputs": [
    {
     "name": "stderr",
     "output_type": "stream",
     "text": [
      "C:\\Users\\RanKey\\Anaconda3\\lib\\site-packages\\sklearn\\cross_validation.py:44: DeprecationWarning: This module was deprecated in version 0.18 in favor of the model_selection module into which all the refactored classes and functions are moved. Also note that the interface of the new CV iterators are different from that of this module. This module will be removed in 0.20.\n",
      "  \"This module will be removed in 0.20.\", DeprecationWarning)\n"
     ]
    }
   ],
   "source": [
    "# Importamos las librerías\n",
    "import numpy as np\n",
    "import matplotlib.pyplot as plt\n",
    "from sklearn.linear_model import LogisticRegression # Importa el modelo de clasificación\n",
    "from sklearn.cross_validation import train_test_split # Importa las funciones de validación cruzada\n",
    "from sklearn.preprocessing import StandardScaler # Importa las funciones de preprocesamineto\n",
    "\n",
    "#Importamos la base de datos\n",
    "from sklearn import datasets\n",
    "cancer = datasets.load_breast_cancer()"
   ]
  },
  {
   "cell_type": "code",
   "execution_count": 2,
   "metadata": {
    "collapsed": true
   },
   "outputs": [],
   "source": [
    "# Seleccionamos todas las muestras con todas sus caracteristicas (30)\n",
    "datos = cancer.data[:, :30]\n",
    "# También seleccionamos las muestras que tienen quienes cuales tiene cancer y cuales no\n",
    "y = cancer.target"
   ]
  },
  {
   "cell_type": "code",
   "execution_count": 3,
   "metadata": {
    "collapsed": true
   },
   "outputs": [],
   "source": [
    "# Creamos un entero con el numero de caracteristicas de los datos\n",
    "caracteristicas = np.shape(datos)[1]\n",
    "# En esta lista de 30*4 guardaremos:\n",
    "    # 30 resultados (1 por cada caracteristica)\n",
    "    # Primera fila tendrá la cantidad de datos mal clasificados\n",
    "    # Segunda tendrá la exactitud de cada caracteristica\n",
    "    # Tercera contenerá la el nombre de la caracteristica\n",
    "    # Cuarta guardará las iniciales del nombre de la caracteristica\n",
    "clasificadas = [[0] * 4 for i in range(caracteristicas)]"
   ]
  },
  {
   "cell_type": "code",
   "execution_count": 4,
   "metadata": {
    "collapsed": true
   },
   "outputs": [],
   "source": [
    "# A esta función se le pasa una cadena de caracteres y esta saca la primera letra\n",
    "    # de la palabra(s), es como una especie de abreviatura para la gráfica\n",
    "def first_letter(line):\n",
    "    words = line.split()\n",
    "    letters = [word[0] for word in words]\n",
    "    return (\"\".join(letters))"
   ]
  },
  {
   "cell_type": "code",
   "execution_count": 8,
   "metadata": {
    "collapsed": true
   },
   "outputs": [],
   "source": [
    "# Con esta función podemos gráficar, solo con pasarle la lista en la que están\n",
    "    # los datos, despues de pasar por el clasificador\n",
    "def graph(clasificadas):\n",
    "    # Ordenamos los datos de menor a mayor, basandonos solo en la primera columna\n",
    "    clasificadas.sort(key=lambda x: x[0], reverse=True)\n",
    "    # Guardamos las caracteristicas y los errores para gráficarlos\n",
    "    caracteristica = [row[3] for row in clasificadas]\n",
    "    errores = [row[0] for row in clasificadas]\n",
    "    # Guardamos las posiciones de 0 a 30 en un vector\n",
    "    x_pos = np.arange(len(caracteristica))\n",
    "    \n",
    "    # Cálculamos la pendiente y el intercepto para cálcular la línea de tendencia\n",
    "    pendiente, intercepto = np.polyfit(x_pos, errores, 1)\n",
    "    linea_tendencia = intercepto + (pendiente * x_pos)\n",
    "    \n",
    "    # Le damos el tamaño a la gráfica y agregamos los valores para esta\n",
    "    plt.figure(figsize=(10,8))\n",
    "    plt.plot(x_pos, linea_tendencia, color='red', linestyle='--')    \n",
    "    plt.bar(x_pos, errores, align='center')\n",
    "    plt.xticks(x_pos, caracteristica) \n",
    "    plt.ylabel('Errores')\n",
    "    plt.xlabel('Caracteristicas')\n",
    "    plt.show()"
   ]
  },
  {
   "cell_type": "code",
   "execution_count": 9,
   "metadata": {
    "collapsed": true
   },
   "outputs": [],
   "source": [
    "# Esta es al función de la magia, le pasamos los datos y recorremos todas caracteristica\n",
    "    # exceptuando la de la posición 'i', buscando la que mejor clasifique los datos (Mayor error)\n",
    "def target(X):\n",
    "    for i in range(caracteristicas):\n",
    "        # Obtenemos la columna que vamos a evaluar y la pasamos al clasificador\n",
    "        selector = [x for x in range(X.shape[1]) if x != i]\n",
    "        x = X[:,selector]\n",
    "        \n",
    "        #Hacemos la división del conjunto de entrenamiento y el conjunto de validación\n",
    "        X_train,X_test,y_train,y_test = train_test_split(x,y,test_size=0.3,random_state=0)\n",
    "        \n",
    "        # Estándarizamos los datos\n",
    "        sc = StandardScaler()\n",
    "        sc.fit(X_train)\n",
    "        X_train_norm = sc.transform(X_train)\n",
    "        X_test_norm = sc.transform(X_test)\n",
    "        \n",
    "        #Ahora entrenamos el clasificador\n",
    "        clasificador = LogisticRegression(C=1, random_state=0) #C es el parámetro de regularización\n",
    "        clasificador.fit(X_train_norm, y_train) #Entrenamiento del clasificador\n",
    "        \n",
    "        #Para validar el clasificador\n",
    "        y_pred = clasificador.predict(X_test_norm)\n",
    "        correct = (y_pred - y_test) == 0\n",
    "        # Cálculamos la exactitud del clasificador (accurrancy)\n",
    "        acc = sum(correct) / y_test.size\n",
    "        # En la primera columna, la cantidad de errores\n",
    "        clasificadas[i][0] = (y_test != y_pred).sum()\n",
    "        # La exactitud y con la función format, le decimos que solo guarde los 3 decimales\n",
    "        clasificadas[i][1] = format(acc, '.3f')\n",
    "        # Los nombres de las caracteristicas\n",
    "        clasificadas[i][2] = list(cancer.feature_names)[i]\n",
    "        # Las primeras letras de cada palabra\n",
    "        clasificadas[i][3] = first_letter(list(cancer.feature_names)[i])"
   ]
  },
  {
   "cell_type": "code",
   "execution_count": 10,
   "metadata": {},
   "outputs": [
    {
     "name": "stdout",
     "output_type": "stream",
     "text": [
      "[3, '0.982', 'concave points error', 'cpe']\n",
      "[4, '0.977', 'mean radius', 'mr']\n",
      "[4, '0.977', 'mean area', 'ma']\n",
      "[4, '0.977', 'mean smoothness', 'ms']\n",
      "[4, '0.977', 'mean compactness', 'mc']\n",
      "[4, '0.977', 'mean concavity', 'mc']\n",
      "[4, '0.977', 'mean symmetry', 'ms']\n",
      "[4, '0.977', 'mean fractal dimension', 'mfd']\n",
      "[4, '0.977', 'radius error', 're']\n",
      "[4, '0.977', 'perimeter error', 'pe']\n",
      "[4, '0.977', 'area error', 'ae']\n",
      "[4, '0.977', 'smoothness error', 'se']\n",
      "[4, '0.977', 'concavity error', 'ce']\n",
      "[4, '0.977', 'symmetry error', 'se']\n",
      "[4, '0.977', 'worst texture', 'wt']\n",
      "[4, '0.977', 'worst area', 'wa']\n",
      "[4, '0.977', 'worst compactness', 'wc']\n",
      "[4, '0.977', 'worst concavity', 'wc']\n",
      "[5, '0.971', 'mean texture', 'mt']\n",
      "[5, '0.971', 'mean perimeter', 'mp']\n",
      "[5, '0.971', 'mean concave points', 'mcp']\n",
      "[5, '0.971', 'texture error', 'te']\n",
      "[5, '0.971', 'fractal dimension error', 'fde']\n",
      "[5, '0.971', 'worst radius', 'wr']\n",
      "[5, '0.971', 'worst perimeter', 'wp']\n",
      "[5, '0.971', 'worst concave points', 'wcp']\n",
      "[5, '0.971', 'worst fractal dimension', 'wfd']\n",
      "[6, '0.965', 'compactness error', 'ce']\n",
      "[6, '0.965', 'worst smoothness', 'ws']\n",
      "[6, '0.965', 'worst symmetry', 'ws']\n"
     ]
    },
    {
     "data": {
      "image/png": "[encoded data removed]",
      "text/plain": [
       "<matplotlib.figure.Figure at 0x1e023b1e6a0>"
      ]
     },
     "metadata": {},
     "output_type": "display_data"
    }
   ],
   "source": [
    "#Ejecutamos todas las funciones        \n",
    "target(datos)\n",
    "organizados = sorted(clasificadas, key=lambda k: k[0])\n",
    "print(*organizados, sep='\\n')\n",
    "graph(clasificadas)"
   ]
  },
  {
   "cell_type": "code",
   "execution_count": null,
   "metadata": {
    "collapsed": true
   },
   "outputs": [],
   "source": []
  }
 ],
 "metadata": {
  "kernelspec": {
   "display_name": "Python 3",
   "language": "python",
   "name": "python3"
  },
  "language_info": {
   "codemirror_mode": {
    "name": "ipython",
    "version": 3
   },
   "file_extension": ".py",
   "mimetype": "text/x-python",
   "name": "python",
   "nbconvert_exporter": "python",
   "pygments_lexer": "ipython3",
   "version": "3.6.1"
  }
 },
 "nbformat": 4,
 "nbformat_minor": 2
}
