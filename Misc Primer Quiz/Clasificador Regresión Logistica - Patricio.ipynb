{
 "cells": [
  {
   "cell_type": "markdown",
   "metadata": {},
   "source": [
    "# regresión logística\n",
    "El clasificador de regresión logística se utiliza para problemas biclase y en donde las clases son linealmente separables. Sus prestaciones se pueden extender a problemas multiclase a traves de la técnica *One vs Rest* u OvR. Este clasificador parte de la probabilidad a favor de un determinado evento, definida por *razon de momios* u *odds ratio*\n",
    "\n",
    "$$OR = \\frac{p}{1-p},$$\n",
    "\n",
    "donde $p$ es la probabilidad del evento.\n",
    "\n",
    "Al OR le podemos calcular el logarítmo para obtener la función **logit**.\n",
    "\n",
    "$$logit(p)=\\log\\frac{p}{1-p}$$\n",
    "\n",
    "En términos de los parametros de entrada de nuestro clasificador tendremos: \n",
    "\n",
    "$$logit(p)=logit(P(y=1|\\mathbf{x}))=w_0x_0+w_1x_1+\\ldots+w_{1-p}x_{1-p}=\\sum_{i=0}^{1-p}w_ix_i=\\mathbf{w}^{\\top}\\mathbf{x}=z$$\n",
    "\n",
    "Lo que queremos hacer es despejar la probabilidad del event, que se va a relacionar con la probabilidad de que una observación pertenezca a la clase con la etiqueta $y=1$. Para ello utilizamos la función inversa, que se denomina **sigmoide**.\n",
    "\n",
    "$$\\phi(z)=\\frac{1}{1+e^{-z}}$$\n",
    "\n",
    "Gáficamente tendremos:"
   ]
  },
  {
   "cell_type": "code",
   "execution_count": 1504,
   "metadata": {
    "collapsed": true
   },
   "outputs": [],
   "source": [
    "import matplotlib.pyplot as plt\n",
    "import numpy as np\n",
    "\n",
    "def sigmoide(z):\n",
    "    función_sigmoide = 1.0/(1.0+np.exp(-z))\n",
    "    return función_sigmoide"
   ]
  },
  {
   "cell_type": "code",
   "execution_count": 1505,
   "metadata": {},
   "outputs": [
    {
     "data": {
      "image/png": "[encoded data removed]",
      "text/plain": [
       "<matplotlib.figure.Figure at 0x2918af12e80>"
      ]
     },
     "metadata": {},
     "output_type": "display_data"
    }
   ],
   "source": [
    "z = np.mgrid[-10:10:0.1]\n",
    "fi = sigmoide(z)\n",
    "\n",
    "plt.plot(z,fi)\n",
    "plt.axvline(0,0,color='k')\n",
    "plt.axhline(y = 0.5,ls='dotted',color='k')\n",
    "plt.ylabel('$\\phi(z)$')\n",
    "plt.xlabel('z')\n",
    "plt.show()"
   ]
  },
  {
   "cell_type": "markdown",
   "metadata": {},
   "source": [
    "# Base de datos(Iris):\n",
    "La BD Iris es muy utilizada para probar los algoritmos de ML.\n",
    "Consiste de 150 observaciones y tres clases(50 observaciones por clase). Las tres clases son: *Iris Setosa*, *Iris Versicolor* e *Iris Virginica*. Cada observación tiene 4 caracteristicas: Largo y ancho del sépalo y el largo y ancho del pétalo.\n",
    "\n",
    "![Iris](https://upload.wikimedia.org/wikipedia/commons/thumb/c/c5/P%C3%A9talo-s%C3%A9palo.jpg/220px-P%C3%A9talo-s%C3%A9palo.jpg)"
   ]
  },
  {
   "cell_type": "code",
   "execution_count": 1506,
   "metadata": {},
   "outputs": [
    {
     "name": "stdout",
     "output_type": "stream",
     "text": [
      "[0 1 2]\n"
     ]
    }
   ],
   "source": [
    "#Cargar la BD\n",
    "from sklearn import datasets\n",
    "\n",
    "iris = datasets.load_iris() #Se carga la BD\n",
    "X = iris.data[:,[1,2]] #Matriz de datos (Solo se toman 2 caracteristicas por efectos de visualización)\n",
    "y = iris.target #Las etiquetas\n",
    "print(np.unique(y))"
   ]
  },
  {
   "cell_type": "code",
   "execution_count": 1507,
   "metadata": {
    "collapsed": true
   },
   "outputs": [],
   "source": [
    "def Binarizacion(X):\n",
    "    filas = np.shape(X)[0]\n",
    "    columnas =  np.shape(X)[1]\n",
    "    media = X.mean(axis=0)\n",
    "    for i in range(filas):\n",
    "        for j in range(columnas):\n",
    "            if X[i][j] >= media[j]:\n",
    "                X[i][j] = 1\n",
    "            else:\n",
    "                X[i][j] = 0\n",
    "    return X"
   ]
  },
  {
   "cell_type": "code",
   "execution_count": 1508,
   "metadata": {
    "collapsed": true
   },
   "outputs": [],
   "source": [
    "def Remocion(X, mean, stdd):\n",
    "    X = X - mean\n",
    "    X = X/stdd\n",
    "    return X"
   ]
  },
  {
   "cell_type": "code",
   "execution_count": 1509,
   "metadata": {
    "collapsed": true
   },
   "outputs": [],
   "source": [
    "def Escalar(X):\n",
    "    minimos = [0,0,0]\n",
    "    maximos = [0,0,0]\n",
    "    columnas = np.shape(X)[1]\n",
    "    for i in range(columnas):\n",
    "        minimos[i] = X[:,i].min()\n",
    "        maximos[i] = X[:,i].max()\n",
    "    print(minimos,maximos)\n",
    "    for j in range(columnas):\n",
    "        X[:,j] = ((X[:,j] - minimos[j])) / (maximos[j] - minimos[j])\n",
    "    return X"
   ]
  },
  {
   "cell_type": "code",
   "execution_count": 1510,
   "metadata": {
    "collapsed": true
   },
   "outputs": [],
   "source": [
    "def Normalizacion1(X):\n",
    "    filas = np.shape(X)[0]\n",
    "    columnas =  np.shape(X)[1]\n",
    "    norma = np.linalg.norm(X,ord=1,axis=1)\n",
    "    for i in range(filas):\n",
    "            X[i][:] =  X[i][:]/norma[i]\n",
    "    return X"
   ]
  },
  {
   "cell_type": "code",
   "execution_count": 1511,
   "metadata": {
    "collapsed": true
   },
   "outputs": [],
   "source": [
    "def Normalizacion2(X):\n",
    "    filas = np.shape(X)[0]\n",
    "    columnas =  np.shape(X)[1]\n",
    "    norma = np.linalg.norm(X,ord=2,axis=1)\n",
    "    for i in range(filas):\n",
    "            X[i][:] =  X[i][:]/norma[i]\n",
    "    return X"
   ]
  },
  {
   "cell_type": "code",
   "execution_count": 1512,
   "metadata": {},
   "outputs": [
    {
     "data": {
      "text/plain": [
       "LogisticRegression(C=1000, class_weight=None, dual=False, fit_intercept=True,\n",
       "          intercept_scaling=1, max_iter=100, multi_class='ovr', n_jobs=1,\n",
       "          penalty='l2', random_state=0, solver='liblinear', tol=0.0001,\n",
       "          verbose=0, warm_start=False)"
      ]
     },
     "execution_count": 1512,
     "metadata": {},
     "output_type": "execute_result"
    }
   ],
   "source": [
    "from sklearn.linear_model import LogisticRegression # modelo de clasificación\n",
    "from sklearn.cross_validation import train_test_split # funciones de validación cruzada\n",
    "from sklearn.preprocessing import StandardScaler # funciones de preprocesamiento\n",
    "\n",
    "X_train,X_test,y_train,y_test = train_test_split(X,y,test_size=0.3,random_state = 0)\n",
    "\n",
    "X_mean = X_train.mean(axis=0)\n",
    "X_std = X_train.std(axis=0)\n",
    "XTrain = Remocion(X_train,X_mean,X_std)#,X_mean,X_std\n",
    "XTest = Remocion(X_test,X_mean,X_std)#,X_mean,X_std\n",
    "\n",
    "#print(XTest)\n",
    "\n",
    "# Entrenamos el clasificador\n",
    "clasificador = LogisticRegression(C=1000, random_state=0) #C es el parametro de regularización\n",
    "clasificador.fit(XTrain, y_train) # entrenamiento del clasificador"
   ]
  },
  {
   "cell_type": "code",
   "execution_count": 1513,
   "metadata": {},
   "outputs": [
    {
     "name": "stdout",
     "output_type": "stream",
     "text": [
      "Las muestras mal clasificadas fueron 2\n"
     ]
    }
   ],
   "source": [
    "# para validar el clasificador\n",
    "y_pred = clasificador.predict(XTest)\n",
    "print('Las muestras mal clasificadas fueron %d'%(y_test != y_pred).sum())"
   ]
  },
  {
   "cell_type": "code",
   "execution_count": 1514,
   "metadata": {
    "collapsed": true
   },
   "outputs": [],
   "source": [
    "def visualizar_clasificador(clasificador,X,y):\n",
    "    #definimos maximos y minimos de la malla\n",
    "    min_x,max_x = X[:,0].min()-1.0, X[:,0].max()+1.0\n",
    "    min_y,max_y = X[:,1].min()-1.0, X[:,1].max()+1.0\n",
    "    #definimos el paso de la malla\n",
    "    paso = 0.01\n",
    "    #definimos la malla\n",
    "    x_vals,y_vals = np.mgrid[min_x:max_x:paso, min_y:max_y:paso]\n",
    "    #correr el clasificador sobre la malla\n",
    "    resultados = clasificador.predict(np.c_[x_vals.ravel(),y_vals.ravel()])\n",
    "    #reordenamos la salida para que quede en forma de malla\n",
    "    resultados = resultados.reshape(x_vals.shape)\n",
    "    #creamos la figura\n",
    "    plt.figure()\n",
    "    # Elegimos la paleta de colores\n",
    "    plt.pcolormesh(x_vals,y_vals,resultados,cmap=plt.cm.Set1)\n",
    "    \n",
    "    # Ubicamos los puntos a clasificar\n",
    "    #para el scatter: X[:,0]punto en el eje x, X[:,1]punto en el eje y, \n",
    "    plt.scatter(X[:,0],X[:,1],c=y,s=75,edgecolors='black',linewidth=1,cmap=plt.cm.Set1)\n",
    "    plt.xlim(x_vals.min(),x_vals.max())\n",
    "    plt.ylim(y_vals.min(),y_vals.max())\n",
    "    plt.show()"
   ]
  },
  {
   "cell_type": "code",
   "execution_count": 1515,
   "metadata": {},
   "outputs": [
    {
     "data": {
      "image/png": "[encoded data removed]",
      "text/plain": [
       "<matplotlib.figure.Figure at 0x2918b8482e8>"
      ]
     },
     "metadata": {},
     "output_type": "display_data"
    }
   ],
   "source": [
    "visualizar_clasificador(clasificador,XTest,y_test)"
   ]
  }
 ],
 "metadata": {
  "kernelspec": {
   "display_name": "Python 3",
   "language": "python",
   "name": "python3"
  },
  "language_info": {
   "codemirror_mode": {
    "name": "ipython",
    "version": 3
   },
   "file_extension": ".py",
   "mimetype": "text/x-python",
   "name": "python",
   "nbconvert_exporter": "python",
   "pygments_lexer": "ipython3",
   "version": "3.6.1"
  }
 },
 "nbformat": 4,
 "nbformat_minor": 2
}
