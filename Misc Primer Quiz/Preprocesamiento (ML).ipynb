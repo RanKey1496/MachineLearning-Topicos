{
 "cells": [
  {
   "cell_type": "markdown",
   "metadata": {},
   "source": [
    "# Aprendizaje de máquina\n",
    "***\n",
    "El aprendizaje de máquina se divide en dos grandes áreas:\n",
    "\n",
    "1.**Aprendizaje supervisado**\n",
    ">En el aprendizaje supervisado se entrena un clasificador para identificar la etiqueta de un elemento nuevo. Las entradas para este modelo son: $\\mathbf{X}$ la matriz de datos de dimensión $n\\times p$, donde $n$ es el número de observaciones y $p$ es el número de características, y el conjunto de etiquetas $C=[c_1,c_2,\\ldots,c_k]$, donde $k$ es el número de clases.\n",
    "\n",
    "2.**Aprendizaje no supervisado**\n",
    ">En el aprendizaje no supervisado, se intenta agrupar el conjunto de datos, de tal forma que la separación entre los grupos sea la más conveniente. En este caso la entrada va a estar dada solo por la matriz de datos $\\mathbf{X}$, definida por:\n",
    "\n",
    "$$\\mathbf{X}=\\left[\\begin{array}{cccc}\n",
    "x_{11} & x_{12} & \\ldots & x_{1p}\\\\\n",
    "x_{21} & x_{22} & \\ldots & x_{2p}\\\\\n",
    "\\vdots& &\\ldots &\\vdots\\\\\n",
    "x_{n1} & x_{n2} & \\ldots & x_{np}\n",
    "\\end{array}\\right]$$\n",
    "\n",
    "De forma general, un modelo de ML tiene las siguientes etapas:\n",
    "\n",
    "1. *Adquisición de datos*\n",
    "2. *Acondicionamiento de los datos, también llamado preprocesamiento (filtrado y remoción de artefactos).*\n",
    "3. *Caracterización*\n",
    "4. ***Preprocesamiento de las características***\n",
    "5. *Reducción de dimensión*\n",
    "6. ***Aplicación del modelo ML***\n",
    "7. ***Análisis del resultado***"
   ]
  },
  {
   "cell_type": "markdown",
   "metadata": {},
   "source": [
    "## Aprendizaje supervisado\n",
    "Con el fin de aplicar un modelo supervisado para la clasificación de datos, en necesario iniciar con la carga o adquisición de los datos, en nuestro caso será una matriz $\\mathbf{X}$ artificial:\n",
    "\n",
    "$$\\mathbf{X}=\\left[\\begin{array}{ccc}\n",
    "5.1 &-2.9 &3.3\\\\\n",
    "-1.2 & 7.8 &-6.1\\\\\n",
    "3.9 & 0.4 & 2.1\\\\\n",
    "7.3 &-9.9 & -4.5\n",
    "\\end{array}\n",
    "\\right]$$\n",
    "\n",
    "En este caso tendremos 4 observaciones y 3 características"
   ]
  },
  {
   "cell_type": "code",
   "execution_count": 16,
   "metadata": {},
   "outputs": [
    {
     "name": "stdout",
     "output_type": "stream",
     "text": [
      "La matriz de datos es:\n",
      " [[ 5.1 -2.9  3.3]\n",
      " [-1.2  7.8 -6.1]\n",
      " [ 3.9  0.4  2.1]\n",
      " [ 7.3 -9.9 -4.5]]\n"
     ]
    }
   ],
   "source": [
    "import numpy as np\n",
    "\n",
    "X = np.array([[5.1,-2.9,3.3],[-1.2,7.8,-6.1],[3.9,0.4,2.1],[7.3,-9.9,-4.5]])\n",
    "print('La matriz de datos es:\\n',X) #imprimos la matriz X generada en la línea anterior\n"
   ]
  },
  {
   "cell_type": "markdown",
   "metadata": {},
   "source": [
    "## Preprocesamiento de la matriz de datos\n",
    "***\n",
    "La idea de esta etapa es dar uniformidad a las características con el fin de no sesgar el clasificador. Hay diferentes tipos de preprocesamiento entre los que se encuentran:\n",
    "\n",
    "1. Binarización\n",
    "2. Remoción de la media\n",
    "3. Escalamiento\n",
    "4. Normalización"
   ]
  },
  {
   "cell_type": "markdown",
   "metadata": {},
   "source": [
    "### Binarización:\n",
    "La binarización consiste en convertir las características en variables Booleanas (True,False) o (1,0). Se debe fijar un umbral $\\gamma$ para la binarización de los datos"
   ]
  },
  {
   "cell_type": "code",
   "execution_count": 2,
   "metadata": {
    "collapsed": true
   },
   "outputs": [],
   "source": [
    "\n",
    "#Hacemos la función de binarización\n",
    "def Binarizacion(X,gamma):\n",
    "    filas = np.shape(X)[0]\n",
    "    columnas = np.shape(X)[1]\n",
    "    for i in range(filas):\n",
    "        for j in range(columnas):\n",
    "            if X[i][j] >= gamma:\n",
    "                X[i][j] = 1\n",
    "            else:\n",
    "                X[i][j] = 0\n",
    "    return X\n",
    "    "
   ]
  },
  {
   "cell_type": "code",
   "execution_count": 3,
   "metadata": {},
   "outputs": [
    {
     "name": "stdout",
     "output_type": "stream",
     "text": [
      "Ingrese el valor de gamma: 2.1\n",
      "[[ 1.  0.  1.]\n",
      " [ 0.  1.  0.]\n",
      " [ 1.  0.  1.]\n",
      " [ 1.  0.  0.]]\n"
     ]
    }
   ],
   "source": [
    "#primero preguntamos el valor de gamma\n",
    "gamma = float(input('Ingrese el valor de gamma: '))\n",
    "datos_binarizados = Binarizacion(X,gamma)\n",
    "print(datos_binarizados)\n"
   ]
  },
  {
   "cell_type": "markdown",
   "metadata": {},
   "source": [
    "### Remoción de la media\n",
    "La idea con este preprocesamiento es eliminar la tendencia en los datos. \n",
    "La operación que se realiza sobre la matriz de datos es la siguiente:\n",
    "\n",
    "$$\\frac{\\mathbf{X}-\\mathbf{\\hat{X}}}{\\sigma_{\\mathbf{X}}},$$\n",
    "\n",
    "donde $\\mathbf{\\hat{X}}$ es la media y $\\sigma_{\\mathbf{X}}$ es la desviación."
   ]
  },
  {
   "cell_type": "code",
   "execution_count": 2,
   "metadata": {},
   "outputs": [
    {
     "name": "stdout",
     "output_type": "stream",
     "text": [
      "La media de las características es:\n",
      " [ 3.775 -1.15  -1.3  ]\n",
      "La desviación de las características es:\n",
      " [ 3.12039661  6.36651396  4.0620192 ]\n"
     ]
    }
   ],
   "source": [
    "# Revisamos la media y la desviación actual de los datos\n",
    "media = X.mean(axis=0)\n",
    "print('La media de las características es:\\n',media)\n",
    "desviacion = X.std(axis=0)\n",
    "print('La desviación de las características es:\\n',desviacion)\n"
   ]
  },
  {
   "cell_type": "code",
   "execution_count": 3,
   "metadata": {
    "collapsed": true
   },
   "outputs": [],
   "source": [
    "#Hacemos la función para la remoción de la media\n",
    "def Remocion(X):\n",
    "    X = X - X.mean(axis=0)\n",
    "    X = X/X.std(axis=0)\n",
    "    return X\n",
    "    "
   ]
  },
  {
   "cell_type": "code",
   "execution_count": 4,
   "metadata": {},
   "outputs": [
    {
     "name": "stdout",
     "output_type": "stream",
     "text": [
      "La media de las características es:\n",
      " [  1.11022302e-16   0.00000000e+00   2.77555756e-17]\n",
      "La desviación de las características es:\n",
      " [ 1.  1.  1.]\n"
     ]
    }
   ],
   "source": [
    "#Aplicamos el preprocesamiento\n",
    "datos_centralizados = Remocion(X)\n",
    "media = datos_centralizados.mean(axis=0)\n",
    "print('La media de las características es:\\n',media)\n",
    "desviacion = datos_centralizados.std(axis=0)\n",
    "print('La desviación de las características es:\\n',desviacion)\n"
   ]
  },
  {
   "cell_type": "markdown",
   "metadata": {},
   "source": [
    "### Escalamiento\n",
    "La idea del escalamiento es medir con la mismas *regla* a todas las características, para ello se realiza la siguiente operación:\n",
    "\n",
    "$$\\frac{\\mathbf{X}-min(\\mathbf{X})}{max(\\mathbf{X})-min(\\mathbf{X})}$$"
   ]
  },
  {
   "cell_type": "code",
   "execution_count": 10,
   "metadata": {},
   "outputs": [
    {
     "name": "stdout",
     "output_type": "stream",
     "text": [
      "[-1.2 -9.9 -6.1]\n",
      "[ 7.3  7.8  3.3]\n",
      "[[ 0.74117647  0.39548023  1.        ]\n",
      " [ 0.          1.          0.        ]\n",
      " [ 0.6         0.5819209   0.87234043]\n",
      " [ 1.          0.          0.17021277]]\n"
     ]
    }
   ],
   "source": [
    "minimo = X.min(axis=0)\n",
    "print(minimo)\n",
    "maximo = X.max(axis=0)\n",
    "print(maximo)\n",
    "data = (X-minimo)/(maximo-minimo)\n",
    "print(data)"
   ]
  },
  {
   "cell_type": "markdown",
   "metadata": {},
   "source": [
    "### Normalización\n",
    "\n",
    "Con la normalización podemos alcanzar dos objetivos diferentes, aunque ambos intentan *medir* las características de cada observación con la misma *regla*\n",
    "\n",
    "1. Normalización $L_1$:\n",
    "> Con la normalización $L_1$ es posible eliminar la influencia de la valores atípicos (*outliers*). La idea de esta normalización es que la suma del valor absoluto de cada observación sea unitaria. i.e:\n",
    "\n",
    "> $$ \\sum_{j=1}^{p}||x_{ij}||=1, \\quad\\quad \\forall i=1,\\ldots,n$$\n",
    "\n",
    "2. Normalización $L_2$:\n",
    "> Con la normalización $L_2$ es posible hacer más notable la influencia de los valores atípicos (*outliers*). La idea de esta normalización es que la suma del valor absoluto al cuadrado sea unitaria. i.e.:\n",
    "\n",
    "> $$ \\sqrt{\\sum_{j=1}^{p}||x_{ij}||^2}=1, \\quad\\quad \\forall i=1,\\ldots,n$$\n",
    "\n",
    "Para conseguir la normalización, debemos dividir cada elemento de la fila por la norma correspondiente."
   ]
  },
  {
   "cell_type": "markdown",
   "metadata": {},
   "source": [
    "Los resultados para la normalización son:"
   ]
  },
  {
   "cell_type": "code",
   "execution_count": 5,
   "metadata": {},
   "outputs": [
    {
     "name": "stdout",
     "output_type": "stream",
     "text": [
      "Los datos normalizados con L1 son:\n",
      "  [[ 0.45132743 -0.25663717  0.2920354 ]\n",
      " [-0.0794702   0.51655629 -0.40397351]\n",
      " [ 0.609375    0.0625      0.328125  ]\n",
      " [ 0.33640553 -0.4562212  -0.20737327]]\n"
     ]
    }
   ],
   "source": [
    "norma = np.linalg.norm(X,ord=1,axis=1)\n",
    "norma = np.repeat(norma,3)\n",
    "norma = np.resize(norma,(4,3))\n",
    "data = X/norma\n",
    "print(\"Los datos normalizados con L1 son:\\n \",data)\n"
   ]
  },
  {
   "cell_type": "code",
   "execution_count": 6,
   "metadata": {},
   "outputs": [
    {
     "name": "stdout",
     "output_type": "stream",
     "text": [
      "Los datos normalizados con L2 son:\n",
      "  [[ 0.75765788 -0.43082507  0.49024922]\n",
      " [-0.12030718  0.78199664 -0.61156148]\n",
      " [ 0.87690281  0.08993875  0.47217844]\n",
      " [ 0.55734935 -0.75585734 -0.34357152]]\n"
     ]
    }
   ],
   "source": [
    "norma = np.linalg.norm(X,ord=2,axis=1)\n",
    "norma = np.repeat(norma,3)\n",
    "norma = np.resize(norma,(4,3))\n",
    "data = X/norma\n",
    "print(\"Los datos normalizados con L2 son:\\n \",data)"
   ]
  },
  {
   "cell_type": "markdown",
   "metadata": {
    "collapsed": true
   },
   "source": [
    "### Codificación del etiquetado\n",
    "\n",
    "La codificación del etiquetado se utiliza para hacer el cambio de las etiquetas cualitativas, a unas etiquetas cuantitativas."
   ]
  },
  {
   "cell_type": "markdown",
   "metadata": {
    "collapsed": true
   },
   "source": [
    "Primero definimos el codificador"
   ]
  },
  {
   "cell_type": "code",
   "execution_count": 11,
   "metadata": {
    "collapsed": true
   },
   "outputs": [],
   "source": [
    "def codificador(lista_etiquetas):\n",
    "    diccionario_etiquetas = {}\n",
    "    longitud = len(lista_etiquetas)\n",
    "    i = list(range(longitud))\n",
    "    lista_temporal = zip(lista_etiquetas,i)\n",
    "    for lista_etiquetas,i in lista_temporal:\n",
    "        diccionario_etiquetas[lista_etiquetas] = i\n",
    "    return(diccionario_etiquetas)"
   ]
  },
  {
   "cell_type": "markdown",
   "metadata": {
    "collapsed": true
   },
   "source": [
    "Luego generamos la función para codificar las etiquetas"
   ]
  },
  {
   "cell_type": "code",
   "execution_count": 12,
   "metadata": {
    "collapsed": true
   },
   "outputs": [],
   "source": [
    "def CodificarEtiquetas(etiquetas,diccionario):\n",
    "    for i in range(len(etiquetas)):\n",
    "        etiquetas[i] = diccionario[etiquetas[i]]\n",
    "    return etiquetas\n",
    "    "
   ]
  },
  {
   "cell_type": "code",
   "execution_count": 13,
   "metadata": {},
   "outputs": [],
   "source": [
    "etiquetas = codificador(['red', 'green', 'black', 'yellow', 'white'] ) # con esta función le \"enseñamos\" al codficador las etiquetas"
   ]
  },
  {
   "cell_type": "code",
   "execution_count": 14,
   "metadata": {},
   "outputs": [
    {
     "name": "stdout",
     "output_type": "stream",
     "text": [
      "[1, 2, 4, 1]\n"
     ]
    }
   ],
   "source": [
    "lista = (['green','black','white','green'])\n",
    "salida = CodificarEtiquetas(lista,etiquetas)  #Aquí validamos las funciones\n",
    "print(salida)"
   ]
  }
 ],
 "metadata": {
  "kernelspec": {
   "display_name": "Python 3",
   "language": "python",
   "name": "python3"
  },
  "language_info": {
   "codemirror_mode": {
    "name": "ipython",
    "version": 3
   },
   "file_extension": ".py",
   "mimetype": "text/x-python",
   "name": "python",
   "nbconvert_exporter": "python",
   "pygments_lexer": "ipython3",
   "version": "3.6.1"
  }
 },
 "nbformat": 4,
 "nbformat_minor": 2
}
