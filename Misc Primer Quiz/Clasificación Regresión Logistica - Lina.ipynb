{
 "cells": [
  {
   "cell_type": "markdown",
   "metadata": {},
   "source": [
    "### Regresión Logística\n",
    "\n",
    "El clasificador de regresión logística se utiliza para probleams biclase y en donde las clases son línealmente separables. Sus prestaciones se pueden extener a probelasm multiclase a través de la técnica *one vs rest* u OvR. Este clasificador parte de la probabilidad a favor de un determinado evento, definida por la *razón de momios* u *Odds Ratio*.\n",
    "\n",
    "$$OR = \\frac{p}{1-p},$$\n",
    "\n",
    "donde $p$ es la probabilidad del evento.\n",
    "\n",
    "Al OR le podemos calcular el logaritmo para obtener la función **logit**,\n",
    "\n",
    "$$logit(p)=\\log\\frac{p}{1-p}$$\n",
    "\n",
    "En términos de los parámetros de entrada de nuestro clasificador tendremos:\n",
    "\n",
    "$$logit(p)=logit(P(y=1|\\mathbf{x}))=w_0x_0+w_1x_1+\\ldots+w_{1-p}x_{1-p}=\\sum{i=0}^{1-p}w_ix_i=\\mathbf{w}^{\\top}\\mathbf{x}=z$$\n",
    "\n",
    "Lo que queremos hacer es despejar la probabilida del evento, que se va a realicacionar con la probabilidad de que una obseravación pertenezca a la clase con etiqueta $y=1$. Para ello utilizamos la función inversa, que se denomina **sigmoide**.\n",
    "\n",
    "$$\\phi(z)=\\frac{1}{1+e^{-z}}$$\n",
    "\n",
    "Gráficamente tendremos:"
   ]
  },
  {
   "cell_type": "code",
   "execution_count": 20,
   "metadata": {
    "collapsed": true
   },
   "outputs": [],
   "source": [
    "import matplotlib.pyplot as plt #Librería para gráficar\n",
    "import numpy as np #Librería numérica\n",
    "\n",
    "#Definimos la función sigmoidea\n",
    "def sigmoide(z):\n",
    "    funcion_sigmoide = 1.0/(1.0+np.exp(-z))\n",
    "    return funcion_sigmoide"
   ]
  },
  {
   "cell_type": "code",
   "execution_count": 19,
   "metadata": {},
   "outputs": [
    {
     "data": {
      "image/png": "[encoded data removed]",
      "text/plain": [
       "<matplotlib.figure.Figure at 0x1c82780de80>"
      ]
     },
     "metadata": {},
     "output_type": "display_data"
    }
   ],
   "source": [
    "#Para probarla necesitamos un vector de entrada que es z\n",
    "z = np.mgrid[-10:10:0.1] #Declaramos un arreglo tipo mesh grid\n",
    "fi = sigmoide(z)\n",
    "\n",
    "#Para la gráfica\n",
    "plt.plot(z,fi)\n",
    "plt.axvline(0,0,color='k') #Trazamos una linea vertica por (0,0) de color negro\n",
    "plt.axhline(y=0.5, ls='dotted',color='k') #Linea horizontal por y=0.5 punteada y de color negro\n",
    "plt.ylabel('$\\phi(z)$')\n",
    "plt.xlabel('z')\n",
    "plt.show()"
   ]
  },
  {
   "cell_type": "markdown",
   "metadata": {},
   "source": [
    "# Base de datos (Iris)\n",
    "\n",
    "La base de datos ris es muy itilizada para probar los algoritmos de ML. Consiste en 150 observaciones y 3 clases (50 observaciones por clase). Las tres clases son: *Iris Setosa*, *Iris Versicolor*, *Iris Virginica*. Cada observación tiene 4 características: largo y ancho del sépalo y el largo y ancho del pétalo.\n",
    "\n",
    "![Iris](http://i.imgur.com/BIsc18z.jpg)"
   ]
  },
  {
   "cell_type": "code",
   "execution_count": 21,
   "metadata": {},
   "outputs": [
    {
     "name": "stdout",
     "output_type": "stream",
     "text": [
      "[0 1 2]\n"
     ]
    }
   ],
   "source": [
    "#Para cargar la base de datos\n",
    "from sklearn import datasets \n",
    "iris = datasets.load_iris() #Se carga la base de datos\n",
    "X = iris.data[:,[2,3]] #La matriz de datos (Solo se toman dos caracteristicas para visualizar)\n",
    "y = iris.target #Las etiquetas\n",
    "print(np.unique(y))"
   ]
  },
  {
   "cell_type": "code",
   "execution_count": 23,
   "metadata": {},
   "outputs": [
    {
     "data": {
      "text/plain": [
       "LogisticRegression(C=1000.0, class_weight=None, dual=False,\n",
       "          fit_intercept=True, intercept_scaling=1, max_iter=100,\n",
       "          multi_class='ovr', n_jobs=1, penalty='l2', random_state=0,\n",
       "          solver='liblinear', tol=0.0001, verbose=0, warm_start=False)"
      ]
     },
     "execution_count": 23,
     "metadata": {},
     "output_type": "execute_result"
    }
   ],
   "source": [
    "from sklearn.linear_model import LogisticRegression #Importa el modelo de clasificación\n",
    "from sklearn.cross_validation import train_test_split #Importa las funciones de validación cruzada\n",
    "from sklearn.preprocessing import StandardScaler #Importa las funciones de preprocesamineto\n",
    "\n",
    "#Hacemos la división del conjunto de entrenamiento y el conjunto de validación\n",
    "\n",
    "X_train,X_test,y_train,y_test = train_test_split(X,y,test_size=0.3,random_state=0)\n",
    "\n",
    "sc = StandardScaler()\n",
    "sc.fit(X_train)\n",
    "X_train_norm = sc.transform(X_train)\n",
    "X_test_norm = sc.transform(X_test)\n",
    "\n",
    "#Ahora entrenamos el clasificador\n",
    "clasificador = LogisticRegression(C=1000.0, random_state=0) #C es el parámetro de regularización\n",
    "clasificador.fit(X_train_norm, y_train) #Entrenamiento del clasificador"
   ]
  },
  {
   "cell_type": "code",
   "execution_count": 24,
   "metadata": {},
   "outputs": [
    {
     "name": "stdout",
     "output_type": "stream",
     "text": [
      "Las muestras mal clasificadas fueron 1\n"
     ]
    }
   ],
   "source": [
    "#Para validar el clasificador\n",
    "y_pred = clasificador.predict(X_test_norm)\n",
    "print('Las muestras mal clasificadas fueron %d' %(y_test != y_pred).sum())"
   ]
  },
  {
   "cell_type": "code",
   "execution_count": null,
   "metadata": {
    "collapsed": true
   },
   "outputs": [],
   "source": []
  }
 ],
 "metadata": {
  "kernelspec": {
   "display_name": "Python 3",
   "language": "python",
   "name": "python3"
  },
  "language_info": {
   "codemirror_mode": {
    "name": "ipython",
    "version": 3
   },
   "file_extension": ".py",
   "mimetype": "text/x-python",
   "name": "python",
   "nbconvert_exporter": "python",
   "pygments_lexer": "ipython3",
   "version": "3.6.1"
  }
 },
 "nbformat": 4,
 "nbformat_minor": 2
}
