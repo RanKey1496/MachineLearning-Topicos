{
 "cells": [
  {
   "cell_type": "markdown",
   "metadata": {},
   "source": [
    "# Preprocesamiento utilizando scikit-learn\n",
    "\n",
    "Esta librería de python nos permite realizar las mismas funciones del preprocesamiento de características que ya revisamos manualmente. A continuación podrás encontrar un resumen de las mismas, pero utilizando esta herramienta"
   ]
  },
  {
   "cell_type": "code",
   "execution_count": 1,
   "metadata": {
    "collapsed": true
   },
   "outputs": [],
   "source": [
    "import numpy as np \n",
    "from sklearn import preprocessing  # esta es la librería que nos permite realizar estas funciones"
   ]
  },
  {
   "cell_type": "code",
   "execution_count": 4,
   "metadata": {
    "collapsed": true
   },
   "outputs": [],
   "source": [
    "#Definimos igualmente nuestra matriz de datos de nxp\n",
    "X = np.array([[5.1, -2.9, 3.3],[-1.2, 7.8, -6.1], [3.9, 0.4, 2.1],[7.3, -9.9, -4.5]]) "
   ]
  },
  {
   "cell_type": "markdown",
   "metadata": {},
   "source": [
    "## Binarización\n"
   ]
  },
  {
   "cell_type": "code",
   "execution_count": 5,
   "metadata": {},
   "outputs": [
    {
     "name": "stdout",
     "output_type": "stream",
     "text": [
      "Los datos binarizados son:\n",
      " [[ 1.  0.  1.]\n",
      " [ 0.  1.  0.]\n",
      " [ 1.  0.  0.]\n",
      " [ 1.  0.  0.]]\n"
     ]
    }
   ],
   "source": [
    "datos_binarizados = preprocessing.Binarizer(threshold=2.1).transform(X) \n",
    "print(\"Los datos binarizados son:\\n\", datos_binarizados) "
   ]
  },
  {
   "cell_type": "markdown",
   "metadata": {},
   "source": [
    "## Remoción de la media"
   ]
  },
  {
   "cell_type": "code",
   "execution_count": 6,
   "metadata": {},
   "outputs": [
    {
     "name": "stdout",
     "output_type": "stream",
     "text": [
      "Los datos centralizados son: \n",
      " [[ 0.42462551 -0.2748757   1.13244172]\n",
      " [-1.59434861  1.40579288 -1.18167831]\n",
      " [ 0.04005901  0.24346134  0.83702214]\n",
      " [ 1.12966409 -1.37437851 -0.78778554]]\n"
     ]
    }
   ],
   "source": [
    "datos_centralizados = preprocessing.scale(X) \n",
    "print(\"Los datos centralizados son: \\n\", datos_centralizados) "
   ]
  },
  {
   "cell_type": "markdown",
   "metadata": {},
   "source": [
    "## Escalamiento"
   ]
  },
  {
   "cell_type": "code",
   "execution_count": 8,
   "metadata": {},
   "outputs": [
    {
     "name": "stdout",
     "output_type": "stream",
     "text": [
      "Los datos escalados son:\n",
      " [[ 0.74117647  0.39548023  1.        ]\n",
      " [ 0.          1.          0.        ]\n",
      " [ 0.6         0.5819209   0.87234043]\n",
      " [ 1.          0.          0.17021277]]\n"
     ]
    }
   ],
   "source": [
    "escalador = preprocessing.MinMaxScaler(feature_range=(0, 1)) \n",
    "datos_escalados = escalador.fit_transform(X) \n",
    "print(\"Los datos escalados son:\\n\", datos_escalados) "
   ]
  },
  {
   "cell_type": "markdown",
   "metadata": {},
   "source": [
    "## Normalización"
   ]
  },
  {
   "cell_type": "code",
   "execution_count": 9,
   "metadata": {},
   "outputs": [
    {
     "name": "stdout",
     "output_type": "stream",
     "text": [
      "Los datos normalizados en L1 son:\n",
      " [[ 0.45132743 -0.25663717  0.2920354 ]\n",
      " [-0.0794702   0.51655629 -0.40397351]\n",
      " [ 0.609375    0.0625      0.328125  ]\n",
      " [ 0.33640553 -0.4562212  -0.20737327]]\n",
      "Los datos normalizados en L2 son:\n",
      " [[ 0.75765788 -0.43082507  0.49024922]\n",
      " [-0.12030718  0.78199664 -0.61156148]\n",
      " [ 0.87690281  0.08993875  0.47217844]\n",
      " [ 0.55734935 -0.75585734 -0.34357152]]\n"
     ]
    }
   ],
   "source": [
    "datos_normalizados_l1 = preprocessing.normalize(X, norm='l1') \n",
    "datos_normalizados_l2 = preprocessing.normalize(X, norm='l2') \n",
    "print(\"Los datos normalizados en L1 son:\\n\", datos_normalizados_l1) \n",
    "print(\"Los datos normalizados en L2 son:\\n\", datos_normalizados_l2) "
   ]
  },
  {
   "cell_type": "markdown",
   "metadata": {},
   "source": [
    "## Codificación de la etiqueta"
   ]
  },
  {
   "cell_type": "code",
   "execution_count": 12,
   "metadata": {},
   "outputs": [
    {
     "data": {
      "text/plain": [
       "LabelEncoder()"
      ]
     },
     "execution_count": 12,
     "metadata": {},
     "output_type": "execute_result"
    }
   ],
   "source": [
    "etiquetas= ['red', 'black', 'red', 'green', 'black', 'yellow', 'white']\n",
    "codificador = preprocessing.LabelEncoder() \n",
    "codificador.fit(etiquetas) "
   ]
  },
  {
   "cell_type": "code",
   "execution_count": 14,
   "metadata": {},
   "outputs": [
    {
     "name": "stdout",
     "output_type": "stream",
     "text": [
      "Las etiquetas originales son:\n",
      " ['green', 'red', 'black']\n",
      "Las etiquetas codificadas son: \n",
      " [1 2 0]\n"
     ]
    }
   ],
   "source": [
    "etiquetas = ['green', 'red', 'black'] \n",
    "etiquetas_codificadas = codificador.transform(etiquetas) \n",
    "print(\"Las etiquetas originales son:\\n\", etiquetas) \n",
    "print(\"Las etiquetas codificadas son: \\n\", etiquetas_codificadas)"
   ]
  }
 ],
 "metadata": {
  "kernelspec": {
   "display_name": "Python 3",
   "language": "python",
   "name": "python3"
  },
  "language_info": {
   "codemirror_mode": {
    "name": "ipython",
    "version": 3
   },
   "file_extension": ".py",
   "mimetype": "text/x-python",
   "name": "python",
   "nbconvert_exporter": "python",
   "pygments_lexer": "ipython3",
   "version": "3.6.1"
  }
 },
 "nbformat": 4,
 "nbformat_minor": 2
}
