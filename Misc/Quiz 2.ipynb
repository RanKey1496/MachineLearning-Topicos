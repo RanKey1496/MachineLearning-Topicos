{
 "cells": [
  {
   "cell_type": "markdown",
   "metadata": {},
   "source": [
    "# Modelo de mezclas Gaussianas - GMM"
   ]
  },
  {
   "cell_type": "code",
   "execution_count": 1,
   "metadata": {},
   "outputs": [
    {
     "name": "stderr",
     "output_type": "stream",
     "text": [
      "C:\\Users\\RanKey\\Anaconda3\\lib\\site-packages\\sklearn\\cross_validation.py:44: DeprecationWarning: This module was deprecated in version 0.18 in favor of the model_selection module into which all the refactored classes and functions are moved. Also note that the interface of the new CV iterators are different from that of this module. This module will be removed in 0.20.\n",
      "  \"This module will be removed in 0.20.\", DeprecationWarning)\n"
     ]
    }
   ],
   "source": [
    "#Importamos las librerias\n",
    "import numpy as np\n",
    "import matplotlib.pyplot as plt\n",
    "from matplotlib import patches #patches sirve para la graficacion de elipses\n",
    "from sklearn import datasets\n",
    "from sklearn.mixture import GMM #Mixture contiene los modelos de mezclas\n",
    "from sklearn.cross_validation import StratifiedKFold #validacion por k-fold\n"
   ]
  },
  {
   "cell_type": "code",
   "execution_count": 25,
   "metadata": {
    "scrolled": true
   },
   "outputs": [
    {
     "name": "stdout",
     "output_type": "stream",
     "text": [
      "1797\n",
      "1343\n",
      "454\n",
      "10\n"
     ]
    }
   ],
   "source": [
    "#Cargamos los datos\n",
    "\n",
    "digits = datasets.load_digits()\n",
    "\n",
    "#Realizamos la particion de los datos para entrenamiento y validacion\n",
    "indices = StratifiedKFold(digits.target, n_folds=4) #n_folds es el numero de particiones\n",
    "train_index,test_index = next(iter(indices))\n",
    "print(len(digits.target))\n",
    "print(len(train_index))\n",
    "print(len(test_index))\n",
    "\n",
    "#extraemos los datos\n",
    "X_train = digits.data[train_index]\n",
    "y_train = digits.target[train_index]\n",
    "X_test = digits.data[test_index]\n",
    "y_test = digits.target[test_index]\n",
    "\n",
    "#Calculamos el numero de clases\n",
    "numero_clases = len(np.unique(y_train))\n",
    "print(numero_clases)\n",
    "\n"
   ]
  },
  {
   "cell_type": "code",
   "execution_count": 26,
   "metadata": {},
   "outputs": [
    {
     "name": "stdout",
     "output_type": "stream",
     "text": [
      "10\n"
     ]
    },
    {
     "name": "stderr",
     "output_type": "stream",
     "text": [
      "C:\\Users\\RanKey\\Anaconda3\\lib\\site-packages\\sklearn\\utils\\deprecation.py:52: DeprecationWarning: Class GMM is deprecated; The class GMM is deprecated in 0.18 and will be  removed in 0.20. Use class GaussianMixture instead.\n",
      "  warnings.warn(msg, category=DeprecationWarning)\n",
      "C:\\Users\\RanKey\\Anaconda3\\lib\\site-packages\\sklearn\\utils\\deprecation.py:70: DeprecationWarning: Function distribute_covar_matrix_to_match_covariance_type is deprecated; The functon distribute_covar_matrix_to_match_covariance_typeis deprecated in 0.18 and will be removed in 0.20.\n",
      "  warnings.warn(msg, category=DeprecationWarning)\n",
      "C:\\Users\\RanKey\\Anaconda3\\lib\\site-packages\\sklearn\\utils\\deprecation.py:70: DeprecationWarning: Function log_multivariate_normal_density is deprecated; The function log_multivariate_normal_density is deprecated in 0.18 and will be removed in 0.20.\n",
      "  warnings.warn(msg, category=DeprecationWarning)\n",
      "C:\\Users\\RanKey\\Anaconda3\\lib\\site-packages\\sklearn\\utils\\deprecation.py:70: DeprecationWarning: Function log_multivariate_normal_density is deprecated; The function log_multivariate_normal_density is deprecated in 0.18 and will be removed in 0.20.\n",
      "  warnings.warn(msg, category=DeprecationWarning)\n",
      "C:\\Users\\RanKey\\Anaconda3\\lib\\site-packages\\sklearn\\utils\\deprecation.py:70: DeprecationWarning: Function log_multivariate_normal_density is deprecated; The function log_multivariate_normal_density is deprecated in 0.18 and will be removed in 0.20.\n",
      "  warnings.warn(msg, category=DeprecationWarning)\n",
      "C:\\Users\\RanKey\\Anaconda3\\lib\\site-packages\\sklearn\\utils\\deprecation.py:70: DeprecationWarning: Function log_multivariate_normal_density is deprecated; The function log_multivariate_normal_density is deprecated in 0.18 and will be removed in 0.20.\n",
      "  warnings.warn(msg, category=DeprecationWarning)\n",
      "C:\\Users\\RanKey\\Anaconda3\\lib\\site-packages\\sklearn\\utils\\deprecation.py:70: DeprecationWarning: Function log_multivariate_normal_density is deprecated; The function log_multivariate_normal_density is deprecated in 0.18 and will be removed in 0.20.\n",
      "  warnings.warn(msg, category=DeprecationWarning)\n",
      "C:\\Users\\RanKey\\Anaconda3\\lib\\site-packages\\sklearn\\utils\\deprecation.py:70: DeprecationWarning: Function log_multivariate_normal_density is deprecated; The function log_multivariate_normal_density is deprecated in 0.18 and will be removed in 0.20.\n",
      "  warnings.warn(msg, category=DeprecationWarning)\n"
     ]
    }
   ],
   "source": [
    "#Contruimos el clasificador GMM\n",
    "clasificador = GMM(n_components = numero_clases, covariance_type = 'full', init_params = 'wc', n_iter = 20) #wc es peso y covarianza\n",
    "clasificador.means_=np.array([X_train[y_train==i].mean(axis=0) for i in range(numero_clases)])\n",
    "clasificador.fit(X_train)\n",
    "#print(clasificador.means_)\n",
    "print(len(clasificador.means_))"
   ]
  },
  {
   "cell_type": "markdown",
   "metadata": {},
   "source": [
    "# Visualizacion\n",
    "****\n"
   ]
  },
  {
   "cell_type": "code",
   "execution_count": 45,
   "metadata": {},
   "outputs": [
    {
     "name": "stdout",
     "output_type": "stream",
     "text": [
      "[[  1.00000000e-03   1.00000000e-03   1.00000000e-03   1.00000000e-03\n",
      "    1.00000000e-03   1.00000000e-03   1.00000000e-03   1.00000000e-03\n",
      "    1.00000000e-03   1.00000000e-03   1.00000000e-03   1.00000000e-03\n",
      "    1.00000000e-03   1.00000000e-03   1.00000000e-03   1.00000000e-03\n",
      "    4.89046405e-03   1.31217042e-02   1.80519889e-02   4.89313110e-02\n",
      "    1.44371932e-01   1.88097894e-01   2.92544753e-01   3.32819997e-01\n",
      "    3.61909895e-01   5.05354899e-01   5.62280913e-01   5.95975583e-01\n",
      "    6.80246205e-01   7.00908394e-01   8.11409380e-01   8.41901060e-01\n",
      "    1.03378178e+00   1.05292001e+00   1.19966457e+00   1.31892624e+00\n",
      "    1.42320642e+00   1.50540763e+00   1.67155408e+00   1.85951829e+00\n",
      "    2.10247354e+00   2.27617417e+00   2.56187019e+00   2.76807090e+00\n",
      "    3.18895574e+00   3.62834399e+00   3.98352436e+00   4.71065691e+00\n",
      "    4.97084265e+00   5.34433366e+00   5.89849263e+00   6.07726157e+00\n",
      "    7.04541570e+00   7.93104429e+00   9.85851813e+00   1.25063336e+01\n",
      "    1.39830968e+01   1.60808555e+01   2.15190167e+01   2.54018122e+01\n",
      "    2.97210825e+01   3.73513066e+01   7.29827967e+01   8.76196175e+01]\n",
      " [  1.00000000e-03   1.00000000e-03   1.00000000e-03   1.00000000e-03\n",
      "    1.00000000e-03   1.00000000e-03   1.00000000e-03   1.00000000e-03\n",
      "    1.00000000e-03   1.00000000e-03   1.00000000e-03   1.00000000e-03\n",
      "    1.00000000e-03   1.00000000e-03   6.58300026e-03   1.25094430e-02\n",
      "    1.86182457e-02   7.01782040e-02   7.29460344e-02   8.52620218e-02\n",
      "    1.56324780e-01   2.99855033e-01   3.90161613e-01   4.60048572e-01\n",
      "    4.99966860e-01   5.45034196e-01   6.09553649e-01   6.97409049e-01\n",
      "    7.83556264e-01   8.32305376e-01   9.92211429e-01   1.05177558e+00\n",
      "    1.17078998e+00   1.37532597e+00   1.40459871e+00   1.46354805e+00\n",
      "    1.65920070e+00   1.76354716e+00   1.77918509e+00   2.02932073e+00\n",
      "    2.25982086e+00   2.64207221e+00   2.84829533e+00   3.15058106e+00\n",
      "    3.22184420e+00   3.58100352e+00   4.42964068e+00   5.01272135e+00\n",
      "    5.72250219e+00   6.75831861e+00   7.07103961e+00   8.16192672e+00\n",
      "    9.16785871e+00   1.03003959e+01   1.19869261e+01   1.52478015e+01\n",
      "    1.56110071e+01   2.01159178e+01   3.23767296e+01   4.39399904e+01\n",
      "    6.63400609e+01   1.03314803e+02   2.13427526e+02   2.61118479e+02]\n",
      " [  1.00000000e-03   1.00000000e-03   1.00000000e-03   1.00000000e-03\n",
      "    1.00000000e-03   1.00000000e-03   1.00000000e-03   1.00000000e-03\n",
      "    1.00000000e-03   1.00000000e-03   5.08367459e-03   1.03411189e-02\n",
      "    1.35935586e-02   1.99335943e-02   2.33024133e-02   2.98302613e-02\n",
      "    4.25181886e-02   7.83645029e-02   1.08102160e-01   1.25076254e-01\n",
      "    1.43236107e-01   2.63316501e-01   3.51842603e-01   3.99521987e-01\n",
      "    4.98899948e-01   5.39466674e-01   6.01199199e-01   6.26988916e-01\n",
      "    8.71661139e-01   8.93289558e-01   9.23296813e-01   9.82283343e-01\n",
      "    1.08615169e+00   1.13182550e+00   1.38483777e+00   1.45747822e+00\n",
      "    1.52495205e+00   1.63741092e+00   1.92842525e+00   2.19481198e+00\n",
      "    2.47752197e+00   2.80236885e+00   3.14439027e+00   3.30718120e+00\n",
      "    3.54819882e+00   3.79668886e+00   4.49685524e+00   5.13476125e+00\n",
      "    5.54219956e+00   6.54055968e+00   7.07292842e+00   7.87317825e+00\n",
      "    1.11975021e+01   1.20842237e+01   1.32123355e+01   1.72848793e+01\n",
      "    1.89192236e+01   2.76164549e+01   3.32913559e+01   4.66562955e+01\n",
      "    6.85576833e+01   7.64146085e+01   9.41545525e+01   2.21074342e+02]\n",
      " [  1.00000000e-03   1.00000000e-03   1.00000000e-03   1.00000000e-03\n",
      "    1.00000000e-03   1.00000000e-03   1.00000000e-03   1.00000000e-03\n",
      "    1.00000000e-03   1.00000000e-03   1.73033621e-03   4.37123394e-03\n",
      "    1.00185846e-02   1.76187639e-02   2.47915091e-02   3.22912567e-02\n",
      "    4.82702706e-02   9.32486576e-02   1.02600480e-01   2.73347329e-01\n",
      "    3.06255138e-01   3.74043929e-01   4.27402372e-01   5.59147147e-01\n",
      "    6.21306702e-01   7.18831517e-01   7.97671574e-01   9.23880265e-01\n",
      "    1.05894004e+00   1.15611803e+00   1.42419813e+00   1.44882908e+00\n",
      "    1.56549819e+00   1.69155982e+00   1.82197196e+00   1.95669746e+00\n",
      "    2.05995624e+00   2.39471403e+00   2.50301388e+00   3.18727766e+00\n",
      "    3.24764299e+00   3.46899419e+00   3.53568778e+00   3.76934459e+00\n",
      "    4.56106411e+00   5.01093310e+00   5.51527714e+00   5.92850268e+00\n",
      "    6.66201961e+00   8.26219908e+00   9.78294412e+00   1.00446665e+01\n",
      "    1.08804786e+01   1.53092250e+01   1.69022805e+01   2.09047393e+01\n",
      "    2.56302352e+01   2.73381969e+01   3.52631366e+01   4.41228990e+01\n",
      "    4.99381922e+01   5.37326293e+01   9.44192375e+01   1.40967732e+02]\n",
      " [  1.00000000e-03   1.00000000e-03   1.00000000e-03   1.00000000e-03\n",
      "    1.00000000e-03   1.00000000e-03   1.00000000e-03   1.00000000e-03\n",
      "    1.00000000e-03   1.00000000e-03   1.00000000e-03   1.00000000e-03\n",
      "    5.46894807e-03   9.08115023e-03   9.54866163e-03   2.08944670e-02\n",
      "    4.77797638e-02   8.92616470e-02   1.32326118e-01   1.67436733e-01\n",
      "    2.27791582e-01   3.18907467e-01   3.62300487e-01   3.97067130e-01\n",
      "    4.39621631e-01   5.76956373e-01   6.63081050e-01   7.25224304e-01\n",
      "    7.40244825e-01   8.08381573e-01   9.89484239e-01   1.03560610e+00\n",
      "    1.13749528e+00   1.33478482e+00   1.42689529e+00   1.46828128e+00\n",
      "    1.76762231e+00   1.82820033e+00   2.05768136e+00   2.47339252e+00\n",
      "    2.61760696e+00   2.83604248e+00   3.15717612e+00   3.37323470e+00\n",
      "    3.56183592e+00   3.92272934e+00   4.33661267e+00   5.13675289e+00\n",
      "    6.24011503e+00   6.92108771e+00   7.85156970e+00   8.36812577e+00\n",
      "    9.99377904e+00   1.03329744e+01   1.58741358e+01   1.73189478e+01\n",
      "    1.88154143e+01   2.16114522e+01   2.84045236e+01   3.09841099e+01\n",
      "    4.59679401e+01   7.10143664e+01   1.30122312e+02   2.21440738e+02]\n",
      " [  1.00000000e-03   1.00000000e-03   1.00000000e-03   1.00000000e-03\n",
      "    1.00000000e-03   1.00000000e-03   1.00000000e-03   1.00000000e-03\n",
      "    1.00000000e-03   1.00000000e-03   1.00000000e-03   1.00000000e-03\n",
      "    1.00000000e-03   1.00000000e-03   1.95869256e-02   3.99313275e-02\n",
      "    5.55886875e-02   8.05972015e-02   1.29759411e-01   1.82452488e-01\n",
      "    2.35212896e-01   3.43408689e-01   4.28910745e-01   5.26851237e-01\n",
      "    6.48777657e-01   7.15231012e-01   8.12350750e-01   9.10606793e-01\n",
      "    1.15059883e+00   1.20860099e+00   1.34445116e+00   1.45874692e+00\n",
      "    1.61941673e+00   1.65996610e+00   1.92298904e+00   2.04953563e+00\n",
      "    2.28154438e+00   2.42188162e+00   2.68706431e+00   2.89939778e+00\n",
      "    2.94925482e+00   3.55745138e+00   4.05836356e+00   4.44917032e+00\n",
      "    5.04158235e+00   5.17125097e+00   6.49069127e+00   7.35465193e+00\n",
      "    8.79756982e+00   9.23513161e+00   1.05177914e+01   1.22173175e+01\n",
      "    1.29354279e+01   1.53111394e+01   1.73009683e+01   2.02363832e+01\n",
      "    2.18352986e+01   2.67357417e+01   3.59042702e+01   3.92713507e+01\n",
      "    5.02499951e+01   7.33735131e+01   9.30501571e+01   2.33217226e+02]\n",
      " [  1.00000000e-03   1.00000000e-03   1.00000000e-03   1.00000000e-03\n",
      "    1.00000000e-03   1.00000000e-03   1.00000000e-03   1.00000000e-03\n",
      "    1.00000000e-03   1.00000000e-03   1.00000000e-03   1.00000000e-03\n",
      "    1.00000000e-03   1.00000000e-03   1.00000000e-03   1.00000000e-03\n",
      "    1.00000000e-03   1.00000000e-03   2.50309191e-02   3.16161539e-02\n",
      "    7.96813015e-02   1.08125234e-01   1.40603423e-01   1.85487608e-01\n",
      "    2.19872105e-01   3.18241364e-01   4.62069774e-01   5.09943681e-01\n",
      "    5.34374074e-01   6.08959949e-01   7.36806299e-01   8.53802370e-01\n",
      "    8.92691783e-01   9.52904449e-01   1.03529143e+00   1.10593176e+00\n",
      "    1.13686982e+00   1.34174712e+00   1.56651641e+00   1.90120605e+00\n",
      "    2.01011916e+00   2.18004161e+00   2.35544498e+00   2.72588508e+00\n",
      "    3.06698071e+00   3.35369550e+00   3.58606417e+00   4.01588181e+00\n",
      "    4.20262755e+00   5.01802693e+00   5.40913400e+00   6.64595478e+00\n",
      "    7.13949647e+00   8.58165776e+00   9.86844482e+00   1.12475281e+01\n",
      "    1.33151127e+01   1.47627098e+01   2.61546674e+01   3.34691787e+01\n",
      "    4.69560422e+01   7.03527860e+01   8.60986852e+01   1.28733666e+02]\n",
      " [  1.00000000e-03   1.00000000e-03   1.00000000e-03   1.00000000e-03\n",
      "    1.00000000e-03   1.00000000e-03   1.00000000e-03   1.00000000e-03\n",
      "    1.00000000e-03   1.00000000e-03   1.00000000e-03   1.00000000e-03\n",
      "    1.00000000e-03   1.00000000e-03   1.00000000e-03   3.28171806e-03\n",
      "    1.61701327e-02   1.80802740e-02   2.97694991e-02   1.11084793e-01\n",
      "    1.43309061e-01   2.91843887e-01   3.96759872e-01   5.20957173e-01\n",
      "    5.81321771e-01   6.84506660e-01   7.20933662e-01   8.79660318e-01\n",
      "    8.82495139e-01   9.95944810e-01   1.10552854e+00   1.18464207e+00\n",
      "    1.24139816e+00   1.39911457e+00   1.62431680e+00   1.95116103e+00\n",
      "    2.08895916e+00   2.19065886e+00   2.52621474e+00   2.63694931e+00\n",
      "    2.71237918e+00   3.32871456e+00   3.42811834e+00   3.92918656e+00\n",
      "    4.28244929e+00   4.76207543e+00   5.16675401e+00   5.58317119e+00\n",
      "    6.66592904e+00   8.16079074e+00   8.76254226e+00   9.82991721e+00\n",
      "    1.16036284e+01   1.46656781e+01   1.58581740e+01   1.72896476e+01\n",
      "    2.09630661e+01   2.50298177e+01   3.50956720e+01   3.85095256e+01\n",
      "    5.70487707e+01   6.80423569e+01   9.29203045e+01   2.31216423e+02]\n",
      " [  1.00000000e-03   1.00000000e-03   1.00000000e-03   1.00000000e-03\n",
      "    1.00000000e-03   1.00000000e-03   1.00000000e-03   1.00000000e-03\n",
      "    1.00000000e-03   1.00000000e-03   1.00000000e-03   1.00000000e-03\n",
      "    1.00000000e-03   3.90493930e-03   1.98512319e-02   2.61093422e-02\n",
      "    5.50403034e-02   8.69399879e-02   1.08048129e-01   2.96429453e-01\n",
      "    3.15742800e-01   4.45631958e-01   5.28319336e-01   7.32036039e-01\n",
      "    8.17083964e-01   1.01795699e+00   1.24710480e+00   1.31499164e+00\n",
      "    1.65302715e+00   1.73944119e+00   1.86032535e+00   1.94809989e+00\n",
      "    2.18054559e+00   2.45226731e+00   2.52813951e+00   2.94571698e+00\n",
      "    3.06590516e+00   3.14853755e+00   4.02746138e+00   4.26785569e+00\n",
      "    5.07472091e+00   5.23219437e+00   6.01261060e+00   7.01347729e+00\n",
      "    7.86490026e+00   8.51067383e+00   9.10650375e+00   1.10100560e+01\n",
      "    1.13675583e+01   1.27766807e+01   1.37328186e+01   1.67955376e+01\n",
      "    1.95590565e+01   1.98485636e+01   2.12959291e+01   2.59228945e+01\n",
      "    3.14529056e+01   3.51394896e+01   4.50786123e+01   5.41940862e+01\n",
      "    6.12201878e+01   8.59758144e+01   9.66293322e+01   1.51751943e+02]\n",
      " [  1.00000000e-03   1.00000000e-03   1.00000000e-03   1.00000000e-03\n",
      "    1.00000000e-03   1.00000000e-03   1.00000000e-03   1.00000000e-03\n",
      "    1.00000000e-03   1.00000000e-03   2.63245933e-02   2.79446979e-02\n",
      "    3.35261163e-02   4.40774038e-02   7.53740240e-02   1.21762924e-01\n",
      "    1.61404204e-01   1.93984071e-01   3.74322697e-01   4.37364021e-01\n",
      "    5.45765402e-01   5.87277991e-01   6.17434644e-01   6.72631160e-01\n",
      "    7.28031611e-01   8.64678461e-01   1.00022373e+00   1.09739645e+00\n",
      "    1.17135001e+00   1.18850486e+00   1.37533864e+00   1.48462887e+00\n",
      "    1.57752951e+00   1.73267778e+00   1.85133863e+00   1.95444629e+00\n",
      "    2.08230328e+00   2.65568251e+00   2.81642843e+00   2.96060647e+00\n",
      "    3.12123580e+00   3.80702513e+00   4.62258946e+00   4.94050830e+00\n",
      "    5.38104915e+00   6.11969810e+00   6.46176508e+00   7.64771521e+00\n",
      "    8.85504621e+00   9.62922019e+00   1.10555476e+01   1.18246011e+01\n",
      "    1.53794880e+01   1.60520620e+01   2.15626901e+01   2.30487471e+01\n",
      "    2.78383688e+01   3.06534031e+01   3.45511728e+01   4.56302670e+01\n",
      "    5.18671279e+01   6.58799966e+01   9.35573338e+01   2.06459009e+02]]\n",
      "64\n",
      "64\n",
      "El acierto de entrenamiento es del  96.425912137 %\n",
      "El acierto de prueba es del  90.7488986784 %\n",
      "El error de prueba es del 9.25110132159 %\n"
     ]
    },
    {
     "name": "stderr",
     "output_type": "stream",
     "text": [
      "C:\\Users\\RanKey\\Anaconda3\\lib\\site-packages\\sklearn\\utils\\deprecation.py:70: DeprecationWarning: Function log_multivariate_normal_density is deprecated; The function log_multivariate_normal_density is deprecated in 0.18 and will be removed in 0.20.\n",
      "  warnings.warn(msg, category=DeprecationWarning)\n",
      "C:\\Users\\RanKey\\Anaconda3\\lib\\site-packages\\sklearn\\utils\\deprecation.py:70: DeprecationWarning: Function log_multivariate_normal_density is deprecated; The function log_multivariate_normal_density is deprecated in 0.18 and will be removed in 0.20.\n",
      "  warnings.warn(msg, category=DeprecationWarning)\n"
     ]
    },
    {
     "data": {
      "image/png": "[encoded data removed]",
      "text/plain": [
       "<matplotlib.figure.Figure at 0x25192204cf8>"
      ]
     },
     "metadata": {},
     "output_type": "display_data"
    }
   ],
   "source": [
    "plt.figure()\n",
    "colores = 'bgr'\n",
    "for i, color in enumerate(colores):\n",
    "    #calculamos los valores y vectores propios de las matrices de covarianzas de cada una de las \"i\" componentes\n",
    "    eigenvalores,eigenvectores = np.linalg.eigh(clasificador._get_covars()[i][:2,:2])\n",
    "    #escalamos el primer vector propio para que quede con norma unitaria\n",
    "    norm_vec = eigenvectores[0]/np.linalg.norm(eigenvectores[0])\n",
    "    #calculamos el angulo de rotacion de las elipses\n",
    "    angulo = np.arctan2(norm_vec[1],norm_vec[0])\n",
    "    angulo = 180 * angulo / np.pi\n",
    "    #escalamos por estetica\n",
    "    factor = 8\n",
    "    eigenvalores *= factor\n",
    "    #graficamos la elipse\n",
    "    elipse = patches.Ellipse(clasificador.means_[i,:2], eigenvalores[0], eigenvalores[1], 180+angulo, color = color)\n",
    "    axis_handle = plt.subplot(1,1,1) #handle del eje\n",
    "    elipse.set_clip_box(axis_handle.bbox) #asociacion de las cajas de dibujo\n",
    "    elipse.set_alpha(0.6) #gradod de transparencia\n",
    "    axis_handle.add_artist(elipse)\n",
    "    \n",
    "eigenval,eigenvect = np.linalg.eigh(clasificador._get_covars())\n",
    "print(eigenval)\n",
    "print(len(eigenval[0]))\n",
    "print(len(eigenvect[0]))\n",
    "\n",
    "#graficamos los datos\n",
    "colores= 'bgr'\n",
    "for i,color in enumerate(colores):\n",
    "    data = digits.data[digits.target == i]\n",
    "    plt.scatter(data[:,0],data[:,1],marker='o',facecolors='none',edgecolors=color,s=50, label = digits.target_names[i]) #en lugar de color, \"black\"\n",
    "    test_data = X_test[y_test == i]\n",
    "    plt.scatter(test_data[:,0], test_data[:,1], marker = '*', facecolors = 'red', edgecolors ='black', s = 100, label = digits.target_names[i])\n",
    "\n",
    "y_train_predict = clasificador.predict(X_train)\n",
    "acc_train = np.mean(y_train_predict.ravel()==y_train.ravel())*100\n",
    "print('El acierto de entrenamiento es del ', acc_train,'%')\n",
    "y_test_predict = clasificador.predict(X_test)\n",
    "acc_test = np.mean(y_test_predict.ravel()==y_test.ravel())*100\n",
    "print('El acierto de prueba es del ', acc_test,'%')\n",
    "print('El error de prueba es del', (100-acc_test),'%')\n",
    "\n",
    "plt.title('Clasificador con modelo GMM')\n",
    "plt.xticks(())\n",
    "plt.yticks(())\n",
    "plt.show()\n",
    "\n",
    "#las vacias son entrenamiento\n",
    "#las estrellas son las de prueba\n",
    "    \n",
    "    "
   ]
  },
  {
   "cell_type": "code",
   "execution_count": null,
   "metadata": {},
   "outputs": [],
   "source": []
  },
  {
   "cell_type": "code",
   "execution_count": null,
   "metadata": {
    "collapsed": true
   },
   "outputs": [],
   "source": []
  }
 ],
 "metadata": {
  "kernelspec": {
   "display_name": "Python 3",
   "language": "python",
   "name": "python3"
  },
  "language_info": {
   "codemirror_mode": {
    "name": "ipython",
    "version": 3
   },
   "file_extension": ".py",
   "mimetype": "text/x-python",
   "name": "python",
   "nbconvert_exporter": "python",
   "pygments_lexer": "ipython3",
   "version": "3.6.1"
  }
 },
 "nbformat": 4,
 "nbformat_minor": 2
}
