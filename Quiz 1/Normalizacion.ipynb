{
 "cells": [
  {
   "cell_type": "code",
   "execution_count": 1,
   "metadata": {},
   "outputs": [
    {
     "name": "stdout",
     "output_type": "stream",
     "text": [
      "[[ 1. -1.  1.]\n",
      " [-1.  1. -1.]\n",
      " [ 1.  1.  1.]\n",
      " [ 1. -1. -1.]]\n"
     ]
    }
   ],
   "source": [
    "import numpy as np #Libreria numpy para trabajar con las matrices\n",
    "\n",
    "X = np.array([[5.1,-2.9,3.3],[-1.2,7.8,-6.1],[3.9,0.4,2.1],[7.3,-9.9,-4.5]]) #Instanciamos la matriz\n",
    "\n",
    "def NormalizarNew(X):\n",
    "    filas = np.shape(X)[0] #Obtenemos el numero de filas\n",
    "    columnas =  np.shape(X)[1] #Obtenemos el numero de columnas\n",
    "    media = X.mean(axis=0) #Traemos la media de la matriz\n",
    "    for i in range(filas):\n",
    "        for j in range(columnas):\n",
    "            if X[i][j] >= media[j]: #Si el valor en la posición es mayor a la media entonces le asignamos 1\n",
    "                X[i][j] = 1\n",
    "            else: #Si no es mayor, entonces le asignamos -1\n",
    "                X[i][j] = -1\n",
    "    return X\n",
    "\n",
    "print(NormalizarNew(X))"
   ]
  },
  {
   "cell_type": "code",
   "execution_count": null,
   "metadata": {
    "collapsed": true
   },
   "outputs": [],
   "source": []
  }
 ],
 "metadata": {
  "kernelspec": {
   "display_name": "Python 3",
   "language": "python",
   "name": "python3"
  },
  "language_info": {
   "codemirror_mode": {
    "name": "ipython",
    "version": 3
   },
   "file_extension": ".py",
   "mimetype": "text/x-python",
   "name": "python",
   "nbconvert_exporter": "python",
   "pygments_lexer": "ipython3",
   "version": "3.6.1"
  }
 },
 "nbformat": 4,
 "nbformat_minor": 2
}
