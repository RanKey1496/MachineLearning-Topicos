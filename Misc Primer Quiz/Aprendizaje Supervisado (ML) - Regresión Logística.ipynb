{
 "cells": [
  {
   "cell_type": "markdown",
   "metadata": {},
   "source": [
    "# Aprendizaje supervisado - Regresión Logística\n",
    "***\n",
    "\n",
    "La idea ahora, que ya tenemos nuestra matriz de datos/características pre-procesada, es iniciar nuestro recorrido por los algoritmos de clasificación. Para ello contaremos con una base de datos muy conocida en el ML llamada Iris"
   ]
  },
  {
   "cell_type": "markdown",
   "metadata": {},
   "source": [
    "## Iris\n",
    "***\n",
    "\n",
    "Esta base de datos continuene 50 muestras de 3 diferentes tipos de iris (150 muestras en total). Las características de cada una de las observaciones son: la longitud y el ancho del sépalo,  y la longitud y ancho del pétalo. El objetivo de ML con esta base de datos es predecir la especie de iris de acuerdo a sus medidas.\n",
    "\n",
    "Las especies de irir son: Iris Setosa, Iris Versicolour, Iris Virginica."
   ]
  },
  {
   "cell_type": "markdown",
   "metadata": {},
   "source": [
    "![Iris](http://terpconnect.umd.edu/~petersd/666/html/iris_with_labels.jpg)"
   ]
  },
  {
   "cell_type": "markdown",
   "metadata": {},
   "source": [
    "Para cargar la base de datos desde la librería scikit-learn utilizamos las siguietnes instrucciones"
   ]
  },
  {
   "cell_type": "code",
   "execution_count": 8,
   "metadata": {
    "collapsed": true
   },
   "outputs": [],
   "source": [
    "from sklearn import datasets\n",
    "import numpy as np"
   ]
  },
  {
   "cell_type": "code",
   "execution_count": 9,
   "metadata": {},
   "outputs": [
    {
     "name": "stdout",
     "output_type": "stream",
     "text": [
      "[0 1 2]\n"
     ]
    }
   ],
   "source": [
    "iris = datasets.load_iris()\n",
    "X = iris.data\n",
    "y = iris.target\n",
    "print(np.unique(y))"
   ]
  },
  {
   "cell_type": "markdown",
   "metadata": {},
   "source": [
    "## Regresión logística\n",
    "\n",
    "Es un algoritmo simple pero potente para problemas de clasificación lineales y binarios. A pesar del nombre no es un modelo de regresión, es un modelo de clasificación.\n",
    "\n",
    "La regresión logística es un modelo de clasificación muy simple de implementar y quee funciona muy bien en clases linealmente separables. A nivel industrial es uno de los modelos más utilizados. \n",
    "\n",
    "Dado que es un clasificador binario, si se desea extender sus prestaciones a clasificación multiclase de debe utilizar la técnica OvR."
   ]
  },
  {
   "cell_type": "markdown",
   "metadata": {},
   "source": [
    "### Definiciones\n",
    "\n",
    "Algunas definiciones importantes para entender este tipo de clasificadores son:\n",
    "\n",
    "1. *Odds ratio o razón de momios:*\n",
    ">La razón de momios  indica la probabilidad a favor de un evento particular, y puede ser escrita como $\\frac{p}{1-p}$, donde $p$ denota la probabilidad del evento positivo. Siendo el evento positivo, el evento que queremos predecir.\n",
    "\n",
    "2. *Función logit:*\n",
    ">La función *logit* se define como el logaritmo de la razón de momios:\n",
    "\n",
    "$$logit(p)=\\log\\frac{p}{1-p}$$\n",
    "\n",
    " La función *logit* toma valores de entrada en el rango de 0 a 1 y los transofrma que números reales, con lo que se puede expresar la siguiente relación lineal entre las características y estos valores.\n",
    "\n",
    "$$logit(P(y=1|\\mathbf{x}))=w_0x_0+w_1x_1+\\ldots+w_px_p= \\sum_{j=0}^{p}w_jx_j=\\mathbf{w}^{\\top}\\mathbf{x}$$"
   ]
  },
  {
   "cell_type": "markdown",
   "metadata": {},
   "source": [
    "### Funcionamiento\n",
    "\n",
    "La probabilidad de que cierta muestra pertenezca a una clase particular, que es el objeto de nuestro interés,  es la forma inversa de la función *logit*. Esta función es llamada *función logística* o *sigmoid*, y se define como:\n",
    "\n",
    "$$\\phi(z)=\\frac{1}{1+e^{-z}}$$\n",
    "\n",
    "En este caso $z$ es la red de entrada, i.e., la combinación lineal de l os pesos y las características, $z=\\mathbf{w}^{\\top}\\mathbf{x}$. \n",
    "\n",
    "La función sigmoide se verá de la siguiente manera"
   ]
  },
  {
   "cell_type": "code",
   "execution_count": 10,
   "metadata": {
    "collapsed": true
   },
   "outputs": [],
   "source": [
    "import matplotlib.pyplot as plt #librería para graficar\n",
    "import math\n",
    "\n",
    "#ahora definiremos una función que represente el sigmoide\n",
    "def sigmoide(z):\n",
    "    funcion_sigmoide = 1.0/(1.0+np.exp(-z))\n",
    "    return funcion_sigmoide"
   ]
  },
  {
   "cell_type": "code",
   "execution_count": 11,
   "metadata": {},
   "outputs": [
    {
     "data": {
      "image/png": "[encoded data removed]",
      "text/plain": [
       "<matplotlib.figure.Figure at 0x22e457fbba8>"
      ]
     },
     "metadata": {},
     "output_type": "display_data"
    }
   ],
   "source": [
    "#para probarla debemos generar la malla en z\n",
    "z = np.mgrid[-10:10:0.1]#-10 y 10 son unos valores para visualizar\n",
    "fi = sigmoide(z)\n",
    "plt.plot(z,fi)\n",
    "plt.axvline(0,0,color='k')\n",
    "plt.axhline(y=0.5, ls='dotted', color='k')\n",
    "plt.ylabel('$\\phi(z)$')\n",
    "plt.xlabel('z')\n",
    "plt.show()\n"
   ]
  },
  {
   "cell_type": "markdown",
   "metadata": {},
   "source": [
    "La salida de la función *sigmoide* $\\phi(z) = P(y=1|\\mathbf{x};\\mathbf{w})$ puede ser interpretada como la probabilidad de una observación particual de pertenecer a la clase 1, dadas sus características $\\mathbf{x}$ parametrizadas por los pesos $\\mathbf{w}$.\n",
    "\n",
    "*Ejemplo*\n",
    "\n",
    "Si calculamos $\\phi = 0.8$ para una muestra  determinada en la base de datos Iris, significa que la probabilidad de que sea una Iris Versicolour es del 80%. Similarmente, para una Iris Setosa puede calcularse así: \n",
    "\n",
    "$$P(y=0|\\mathbf{x};\\mathbf{w})=1-P(y=1|\\mathbf{x};\\mathbf{w})=0.2 $$\n",
    "\n",
    "La probabilidad de  salida se puede convertir en una salida binaria a través de un cuantizador (una función de escalón unitario):\n",
    "\n",
    "$$ \\hat{y}=\\left\\{\\begin{array}{cc}\n",
    "1& \\phi(z)\\leq 0.5\\\\\n",
    "0& otros\n",
    "\\end{array}\\right.$$"
   ]
  },
  {
   "cell_type": "markdown",
   "metadata": {},
   "source": [
    "###  Sintonización de parámetros\n",
    "\n",
    "Para la sintonización o el cálculo de los pesos $w$, se debe tener en cuenta la función de costo que se desea minimizar o maximizar. En nuestro caso la función de costo es el error cuadrático medio:\n",
    "\n",
    "$$J(\\mathbf{w})=\\frac{1}{2}\\sum_{i}(\\phi(z_i)-y_i)^2$$\n",
    "\n",
    "Este error corresponde a la diferencia que hay entre la clase estimada y la etiqueta real de cada observación. Ahora bien, la minimización de la función de costos implica la maximización de la función de verosimilitud, definida como:\n",
    "\n",
    "$$L(\\mathbf{w}) = P(\\mathbf{y}|\\mathbf{x};\\mathbf{w})=\\prod_{i=1}^{n}P(y_i|x_i;\\mathbf{w})=\\prod_{i=1}^{n}(\\phi(z_i))^{y_i}(1-\\phi(z_i))^{1-y_i}$$\n",
    "\n",
    "Dado que es más fácil maximizar el logaritmo de la función de verosimilitud, tenemos que:\n",
    "\n",
    "$$l(\\mathbf{w})=\\log(L(\\mathbf{w}))=\\sum_{i=1}^{n}[y_i\\log(\\phi(z_i))+(1-y_i)\\log(1-\\phi(z_i))]$$\n",
    "\n",
    "Ahora bien, podemos usar un algoritmo como gradiente ascendente para maximizar la función de verosimilitud o minimizarla a través de gradiente descendente. Para la minimización tendremos que la función de costos debe ser:\n",
    "\n",
    "$$J(\\mathbf{w})= \\sum_{i=1}^{n}[-y_i\\log(\\phi(z_i))-(1-y_i)\\log(1-\\phi(z_i))]$$\n"
   ]
  },
  {
   "cell_type": "markdown",
   "metadata": {},
   "source": [
    "## Implementación\n",
    "\n",
    "Para implementar nuestro clasificador, utilizaremos el modelo de la librería scikit-learn sobre la base de datos Iris. Primero debemos importar el clasificador y organizar los datos."
   ]
  },
  {
   "cell_type": "code",
   "execution_count": 12,
   "metadata": {},
   "outputs": [],
   "source": [
    "from sklearn.linear_model import LogisticRegression\n",
    "from sklearn.cross_validation import train_test_split # con esta librería podemos dividir nuestra base de datos en entrenamiento y validación\n",
    "from sklearn.preprocessing import StandardScaler\n",
    "\n",
    "#primero hacemos nuestra partición de la DB\n",
    "\n",
    "X = iris.data[:,[2,3]] #tomaremos solo dos características \n",
    "X_train, X_test, y_train, y_test =train_test_split(X,y,test_size=0.3, random_state=0)\n",
    "\n",
    "#Removemos la media y quitamos la varianza. Ojo con la normalización del conjunto de entrenamiento\n",
    "\n",
    "sc = StandardScaler()\n",
    "sc.fit(X_train)\n",
    "X_train_std = sc.transform(X_train)\n",
    "X_test_std = sc.transform(X_test)\n",
    "\n",
    "X_combined_std = np.vstack((X_train_std,X_test_std))\n",
    "y_combined = np.hstack((y_train,y_test))"
   ]
  },
  {
   "cell_type": "markdown",
   "metadata": {},
   "source": [
    "Ahora entrenamos el clasificador:"
   ]
  },
  {
   "cell_type": "code",
   "execution_count": 13,
   "metadata": {},
   "outputs": [
    {
     "data": {
      "text/plain": [
       "LogisticRegression(C=1000.0, class_weight=None, dual=False,\n",
       "          fit_intercept=True, intercept_scaling=1, max_iter=100,\n",
       "          multi_class='ovr', n_jobs=1, penalty='l2', random_state=0,\n",
       "          solver='liblinear', tol=0.0001, verbose=0, warm_start=False)"
      ]
     },
     "execution_count": 13,
     "metadata": {},
     "output_type": "execute_result"
    }
   ],
   "source": [
    "clasificador = LogisticRegression(C=1000.0, random_state = 0) #valores pequeños de C especifican mayor regularización\n",
    "clasificador.fit(X_train_std,y_train)"
   ]
  },
  {
   "cell_type": "code",
   "execution_count": 14,
   "metadata": {},
   "outputs": [
    {
     "name": "stdout",
     "output_type": "stream",
     "text": [
      "Las muestras mal clasificadas fueron 1\n"
     ]
    }
   ],
   "source": [
    "# Para hacer las predicciones\n",
    "y_pred = clasificador.predict(X_test_std)\n",
    "print('Las muestras mal clasificadas fueron %d' % (y_test != y_pred).sum())"
   ]
  },
  {
   "cell_type": "code",
   "execution_count": 15,
   "metadata": {
    "collapsed": true
   },
   "outputs": [],
   "source": [
    "import matplotlib.pyplot as plt\n",
    "import numpy as np\n",
    "\n",
    "def visualizar_clasificador(clasificador, X, y):\n",
    "    #definimos los máximos valores de X e y para la malla\n",
    "    min_x, max_x = X[:, 0].min() - 1.0, X[:, 0].max() + 1.0 \n",
    "    min_y, max_y = X[:, 1].min() - 1.0, X[:, 1].max() + 1.0\n",
    "    #definimos el paso de la malla\n",
    "    mesh_step_size = 0.01\n",
    "    #definimos la malla para x e y\n",
    "    x_vals, y_vals = np.mgrid[min_x:max_x:mesh_step_size, min_y:max_y:mesh_step_size]\n",
    "    #corremos el clasificador sobre la malla\n",
    "    resultados = clasificador.predict(np.c_[x_vals.ravel(), y_vals.ravel()])\n",
    "    #reordenamos la salida\n",
    "    print(resultados)\n",
    "    resultados = resultados.reshape(x_vals.shape)\n",
    "    #creamos la figura\n",
    "    plt.figure()\n",
    "    #elegimos los colores\n",
    "    plt.pcolormesh(x_vals,y_vals,resultados,cmap=plt.cm.Paired)\n",
    "    #ubicamos los puntos\n",
    "    plt.scatter(X[:,0],X[:,1],c=y,s=75,edgecolors='black',linewidth=1,cmap=plt.cm.Paired)\n",
    "    #especificamos los límites de la gráfica\n",
    "    plt.xlim(x_vals.min(), x_vals.max()) \n",
    "    plt.ylim(y_vals.min(), y_vals.max())\n",
    "    #especificamos los puntos que se visualizarán sobre los ejes\n",
    "    plt.xticks((np.arange(int(X[:, 0].min() - 1), int(X[:, 0].max() + 1), 1.0))) \n",
    "    plt.yticks((np.arange(int(X[:, 1].min() - 1), int(X[:, 1].max() + 1), 1.0)))\n",
    "    #Graficamos\n",
    "    plt.show()"
   ]
  },
  {
   "cell_type": "code",
   "execution_count": 16,
   "metadata": {},
   "outputs": [
    {
     "name": "stdout",
     "output_type": "stream",
     "text": [
      "[0 0 0 ..., 2 2 2]\n"
     ]
    },
    {
     "data": {
      "image/png": "[encoded data removed]",
      "text/plain": [
       "<matplotlib.figure.Figure at 0x22e49275278>"
      ]
     },
     "metadata": {},
     "output_type": "display_data"
    }
   ],
   "source": [
    "visualizar_clasificador(clasificador,X_test_std,y_test)"
   ]
  }
 ],
 "metadata": {
  "kernelspec": {
   "display_name": "Python 3",
   "language": "python",
   "name": "python3"
  },
  "language_info": {
   "codemirror_mode": {
    "name": "ipython",
    "version": 3
   },
   "file_extension": ".py",
   "mimetype": "text/x-python",
   "name": "python",
   "nbconvert_exporter": "python",
   "pygments_lexer": "ipython3",
   "version": "3.6.1"
  }
 },
 "nbformat": 4,
 "nbformat_minor": 2
}
